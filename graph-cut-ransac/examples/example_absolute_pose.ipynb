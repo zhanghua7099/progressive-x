{
 "cells": [
  {
   "cell_type": "code",
   "execution_count": 307,
   "metadata": {},
   "outputs": [
    {
     "name": "stdout",
     "output_type": "stream",
     "text": [
      "Number of original correspondences loaded =  95\n",
      "Number of correspondences with outliers =  380\n",
      "Outlier ratio =  0.75\n"
     ]
    }
   ],
   "source": [
    "import numpy as np\n",
    "import matplotlib.pyplot as plt\n",
    "import cv2\n",
    "import random\n",
    "import pygcransac\n",
    "from time import time\n",
    "\n",
    "correspondences = np.loadtxt('img/pose6dscene_points.txt')\n",
    "gt_pose = np.loadtxt('img/pose6dscene_gt.txt')\n",
    "intrinsic_params = np.loadtxt('img/pose6dscene.K')\n",
    "\n",
    "print(\"Number of original correspondences loaded = \", str(len(correspondences)))\n",
    "\n",
    "# Adding outliers to the scene\n",
    "# TODO: replace with an actual example with outliers\n",
    "outlier_number = round(3.0 * correspondences.shape[0])\n",
    "mins = np.min(correspondences, axis=0)\n",
    "maxs = np.max(correspondences, axis=0)\n",
    "\n",
    "mins[0] = 0\n",
    "mins[1] = 0\n",
    "\n",
    "outliers = []\n",
    "for i in range(outlier_number):\n",
    "    for dim in range(5):\n",
    "        outliers.append(random.uniform(mins[dim], maxs[dim]))\n",
    "outliers = np.array(outliers).reshape(-1, 5)\n",
    "correspondences = np.concatenate((correspondences, outliers))\n",
    "print(\"Number of correspondences with outliers = \", str(len(correspondences)))\n",
    "print(\"Outlier ratio = \", outlier_number / correspondences.shape[0])\n",
    "\n"
   ]
  },
  {
   "cell_type": "code",
   "execution_count": 308,
   "metadata": {},
   "outputs": [],
   "source": [
    "def verify_opencv(normalized_corrs, K):\n",
    "    n = len(normalized_corrs)\n",
    "    imagePoints = np.float32([normalized_corrs[i][0:2] for i in np.arange(n)]).reshape(-1,2)\n",
    "    worldPoints = np.float32([normalized_corrs[i][2:5] for i in np.arange(n)]).reshape(-1,3)\n",
    "    dist_coeffs = np.zeros((4,1))\n",
    "    camera_matrix = np.identity(3)\n",
    "\n",
    "    threshold = 2.0\n",
    "    normalized_threshold = threshold / (K[0, 0] + K[1, 1]) / 2.0;    \n",
    "\n",
    "    success, rotation_vector, translation_vector, inliers = cv2.solvePnPRansac(\n",
    "        worldPoints, \n",
    "        imagePoints, \n",
    "        camera_matrix, \n",
    "        dist_coeffs, \n",
    "        flags = cv2.SOLVEPNP_ITERATIVE,\n",
    "        iterationsCount = 1000,\n",
    "        reprojectionError = normalized_threshold)\n",
    "    \n",
    "    mask = np.zeros(n)\n",
    "    if not success:\n",
    "        return np.zeros((3, 4)), mask\n",
    "    mask[inliers] = 1\n",
    "    \n",
    "    rotation, _ = cv2.Rodrigues(rotation_vector)\n",
    "    pose = np.concatenate((rotation, translation_vector), axis=1)\n",
    "    return pose, mask\n",
    "\n",
    "def verify_pygcransac(corrs, K):        \n",
    "    threshold = 2.0\n",
    "    normalized_threshold = threshold / (K[0, 0] + K[1, 1]) / 2.0;    \n",
    "    pose, mask = pygcransac.find6DPose(\n",
    "        np.ascontiguousarray(corrs),\n",
    "        min_iters = 50,\n",
    "        max_iters = 1000,\n",
    "        probabilities = [], # Inlier probabilities. This is not used if the sampler is not 3 (NG-RANSAC) or 4 (AR-Sampler)\n",
    "        sampler = 0, # Sampler index (0 - Uniform, 1 - PROSAC, 2 - P-NAPSAC, 3 - NG-RANSAC, 4 - AR-Sampler)\n",
    "        threshold = normalized_threshold,  # Inlier-outlier threshold\n",
    "        conf = 0.99) # RANSAC confidence\n",
    "    return pose, mask\n",
    "\n",
    "def normalize_image_points(corrs, K): \n",
    "    n = len(corrs)\n",
    "    normalized_correspondences = np.zeros((corrs.shape[0], 5))\n",
    "    inv_K = np.linalg.inv(K)\n",
    "\n",
    "    for i in range(n):\n",
    "        p1 = np.append(correspondences[i][0:2], 1)\n",
    "        p2 = inv_K.dot(p1)\n",
    "        normalized_correspondences[i][0:2] = p2[0:2]\n",
    "        normalized_correspondences[i][2:] = correspondences[i][2:]\n",
    "    return normalized_correspondences\n",
    "\n",
    "def calculate_error(gt_pose, est_pose):\n",
    "    \n",
    "    R2R1 = np.dot(gt_pose[:, 0:3].T, est_pose[:, 0:3])\n",
    "    cos_angle = max(-1.0, min(1.0, 0.5 * (R2R1.trace() - 1.0)))\n",
    "    \n",
    "    err_R = np.arccos(cos_angle) * 180.0 / np.pi\n",
    "    err_t = np.linalg.norm(gt_pose[:, 3] - est_pose[:, 3])\n",
    "    \n",
    "    return err_R, err_t\n"
   ]
  },
  {
   "cell_type": "code",
   "execution_count": 309,
   "metadata": {},
   "outputs": [
    {
     "name": "stdout",
     "output_type": "stream",
     "text": [
      "0.0026285648345947266  sec GC-RANSAC\n",
      "Inlier number =  95\n",
      "Rotation error =  2.7612681746424212e-05 °\n",
      "Translation error =  0.00012228217502662872  mm\n",
      "0.042549848556518555  sec OpenCV\n",
      "Inlier number =  0.0\n",
      "Rotation error =  120.00000000000001 °\n",
      "Translation error =  917.0814487116129  mm\n"
     ]
    }
   ],
   "source": [
    "normalized_correspondences = normalize_image_points(correspondences, intrinsic_params)\n",
    "\n",
    "t = time()\n",
    "\n",
    "pose, mask = verify_pygcransac(normalized_correspondences, intrinsic_params)\n",
    "print (time()-t, ' sec GC-RANSAC')\n",
    "\n",
    "err_R, err_t = calculate_error(gt_pose, pose)\n",
    "\n",
    "print('Inlier number = ', np.sum(mask))\n",
    "print('Rotation error = ', err_R, '°')\n",
    "print('Translation error = ', err_t, ' mm')\n",
    "\n",
    "t = time()\n",
    "\n",
    "# Note that OpenCV dies with this outlier ratio and is much slower too.\n",
    "pose, mask = verify_opencv(normalized_correspondences, intrinsic_params)\n",
    "print (time()-t, ' sec OpenCV')\n",
    "\n",
    "err_R, err_t = calculate_error(gt_pose, pose)\n",
    "\n",
    "print('Inlier number = ', np.sum(mask))\n",
    "print ('Rotation error = ', err_R, '°')\n",
    "print ('Translation error = ', err_t, ' mm')"
   ]
  },
  {
   "cell_type": "code",
   "execution_count": null,
   "metadata": {},
   "outputs": [],
   "source": []
  }
 ],
 "metadata": {
  "interpreter": {
   "hash": "a5e39735f912ce99728f0b241980685852626523db623ebea0ace59769319ada"
  },
  "kernelspec": {
   "display_name": "Python 3.7.11 64-bit ('poselib': conda)",
   "name": "python3"
  },
  "language_info": {
   "codemirror_mode": {
    "name": "ipython",
    "version": 3
   },
   "file_extension": ".py",
   "mimetype": "text/x-python",
   "name": "python",
   "nbconvert_exporter": "python",
   "pygments_lexer": "ipython3",
   "version": "3.8.12"
  }
 },
 "nbformat": 4,
 "nbformat_minor": 4
}
